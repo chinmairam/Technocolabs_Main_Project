{
  "nbformat": 4,
  "nbformat_minor": 0,
  "metadata": {
    "colab": {
      "name": "Random_Forest_Implementation.ipynb",
      "provenance": [],
      "collapsed_sections": []
    },
    "kernelspec": {
      "name": "python3",
      "display_name": "Python 3"
    },
    "language_info": {
      "name": "python"
    }
  },
  "cells": [
    {
      "cell_type": "markdown",
      "metadata": {
        "id": "ZmmDPOTMgpIF"
      },
      "source": [
        "#**Implementation of Random Forest and Hyper Parameter Tuning on pre-processed Lending Club Dataset:**"
      ]
    },
    {
      "cell_type": "code",
      "metadata": {
        "id": "9JSIWiSU9ce2",
        "colab": {
          "base_uri": "https://localhost:8080/"
        },
        "outputId": "b2bbf16d-f367-4902-ebfe-32fb532929ef"
      },
      "source": [
        "from google.colab import drive\n",
        "drive.mount('/content/drive')"
      ],
      "execution_count": 1,
      "outputs": [
        {
          "output_type": "stream",
          "text": [
            "Mounted at /content/drive\n"
          ],
          "name": "stdout"
        }
      ]
    },
    {
      "cell_type": "code",
      "metadata": {
        "colab": {
          "base_uri": "https://localhost:8080/"
        },
        "id": "BbnWuviJPjVi",
        "outputId": "6e9c4474-4c4e-41f5-9a76-dbb0d56ea167"
      },
      "source": [
        "!ls \"/content/drive/My Drive/Data\""
      ],
      "execution_count": 4,
      "outputs": [
        {
          "output_type": "stream",
          "text": [
            " accepted_2007_to_2018Q4.csv  \"Lending_Club's_loan_approval_optimization.csv\"\n",
            " LCDataDictionary.xlsx\t       rejected_2007_to_2018Q4.csv\n"
          ],
          "name": "stdout"
        }
      ]
    },
    {
      "cell_type": "code",
      "metadata": {
        "colab": {
          "base_uri": "https://localhost:8080/"
        },
        "id": "U5gQYXnTPk6L",
        "outputId": "aee2a43c-db88-4148-86c1-0002a17aaa8b"
      },
      "source": [
        "%cd /content/drive/My Drive/Data/"
      ],
      "execution_count": 5,
      "outputs": [
        {
          "output_type": "stream",
          "text": [
            "/content/drive/My Drive/Data\n"
          ],
          "name": "stdout"
        }
      ]
    },
    {
      "cell_type": "code",
      "metadata": {
        "id": "afgKw1O6abGh"
      },
      "source": [
        "#importing python libraries for analysis:\n",
        "\n",
        "import pandas as pd\n",
        "import numpy as np"
      ],
      "execution_count": 6,
      "outputs": []
    },
    {
      "cell_type": "code",
      "metadata": {
        "colab": {
          "base_uri": "https://localhost:8080/",
          "height": 204
        },
        "id": "tUgOk8FwbIC5",
        "outputId": "1b2dd23d-9435-40a7-bbe3-5f4bde592b90"
      },
      "source": [
        "df_Lending_Club = pd.read_csv(\"Lending_Club's_loan_approval_optimization.csv\")\n",
        "df_Lending_Club.drop(\"Unnamed: 0\", axis=1, inplace=True)\n",
        "df_Lending_Club.head()"
      ],
      "execution_count": 8,
      "outputs": [
        {
          "output_type": "execute_result",
          "data": {
            "text/html": [
              "<div>\n",
              "<style scoped>\n",
              "    .dataframe tbody tr th:only-of-type {\n",
              "        vertical-align: middle;\n",
              "    }\n",
              "\n",
              "    .dataframe tbody tr th {\n",
              "        vertical-align: top;\n",
              "    }\n",
              "\n",
              "    .dataframe thead th {\n",
              "        text-align: right;\n",
              "    }\n",
              "</style>\n",
              "<table border=\"1\" class=\"dataframe\">\n",
              "  <thead>\n",
              "    <tr style=\"text-align: right;\">\n",
              "      <th></th>\n",
              "      <th>Amount Requested</th>\n",
              "      <th>Risk_Score</th>\n",
              "      <th>Debt-To-Income Ratio</th>\n",
              "      <th>Employment Length</th>\n",
              "      <th>Target</th>\n",
              "    </tr>\n",
              "  </thead>\n",
              "  <tbody>\n",
              "    <tr>\n",
              "      <th>0</th>\n",
              "      <td>3600.0</td>\n",
              "      <td>677.0</td>\n",
              "      <td>5.91</td>\n",
              "      <td>10</td>\n",
              "      <td>1</td>\n",
              "    </tr>\n",
              "    <tr>\n",
              "      <th>1</th>\n",
              "      <td>24700.0</td>\n",
              "      <td>717.0</td>\n",
              "      <td>16.06</td>\n",
              "      <td>10</td>\n",
              "      <td>1</td>\n",
              "    </tr>\n",
              "    <tr>\n",
              "      <th>2</th>\n",
              "      <td>20000.0</td>\n",
              "      <td>697.0</td>\n",
              "      <td>10.78</td>\n",
              "      <td>10</td>\n",
              "      <td>1</td>\n",
              "    </tr>\n",
              "    <tr>\n",
              "      <th>3</th>\n",
              "      <td>10400.0</td>\n",
              "      <td>697.0</td>\n",
              "      <td>25.37</td>\n",
              "      <td>3</td>\n",
              "      <td>1</td>\n",
              "    </tr>\n",
              "    <tr>\n",
              "      <th>4</th>\n",
              "      <td>11950.0</td>\n",
              "      <td>692.0</td>\n",
              "      <td>10.20</td>\n",
              "      <td>4</td>\n",
              "      <td>1</td>\n",
              "    </tr>\n",
              "  </tbody>\n",
              "</table>\n",
              "</div>"
            ],
            "text/plain": [
              "   Amount Requested  Risk_Score  ...  Employment Length  Target\n",
              "0            3600.0       677.0  ...                 10       1\n",
              "1           24700.0       717.0  ...                 10       1\n",
              "2           20000.0       697.0  ...                 10       1\n",
              "3           10400.0       697.0  ...                  3       1\n",
              "4           11950.0       692.0  ...                  4       1\n",
              "\n",
              "[5 rows x 5 columns]"
            ]
          },
          "metadata": {
            "tags": []
          },
          "execution_count": 8
        }
      ]
    },
    {
      "cell_type": "markdown",
      "metadata": {
        "id": "Lkzkb3VOSVz3"
      },
      "source": [
        "#**Let's split the data for training and testing:**\n",
        "\n"
      ]
    },
    {
      "cell_type": "code",
      "metadata": {
        "id": "iKwFmJEMLCGt"
      },
      "source": [
        "from sklearn.model_selection import train_test_split,cross_val_predict\n",
        "\n",
        "X = df_Lending_Club.iloc[:,:-1].values\n",
        "y = df_Lending_Club.iloc[:,-1].values\n",
        "\n",
        "X_train, X_test, y_train, y_test = train_test_split(X,y,test_size=0.2,random_state=42)"
      ],
      "execution_count": 9,
      "outputs": []
    },
    {
      "cell_type": "code",
      "metadata": {
        "colab": {
          "base_uri": "https://localhost:8080/"
        },
        "id": "mKELEQhCT5gz",
        "outputId": "974b2157-af75-4a70-b690-197bbbcfc795"
      },
      "source": [
        "print(X_train.shape)\n",
        "print(y_train.shape)"
      ],
      "execution_count": 10,
      "outputs": [
        {
          "output_type": "stream",
          "text": [
            "(1658244, 4)\n",
            "(1658244,)\n"
          ],
          "name": "stdout"
        }
      ]
    },
    {
      "cell_type": "code",
      "metadata": {
        "colab": {
          "base_uri": "https://localhost:8080/"
        },
        "id": "xl1Z70q-Cu2f",
        "outputId": "11487cb0-ab1d-4b4b-daf0-0392eade3c5d"
      },
      "source": [
        "from sklearn.ensemble import RandomForestClassifier\n",
        "\n",
        "Model_RF = RandomForestClassifier()\n",
        "Model_RF.fit(X_train, y_train)\n",
        "y_pred = Model_RF.predict(X_test)\n",
        "print(\"Accuracy score of training data {} %:\".format(Model_RF.score(X_train, y_train)*100))\n",
        "print(\"Accuracy score of testing data {} %\".format(Model_RF.score(X_test, y_test)*100))"
      ],
      "execution_count": 11,
      "outputs": [
        {
          "output_type": "stream",
          "text": [
            "Accuracy score of training data 99.33562250187548 %:\n",
            "Accuracy score of testing data 85.78765058061279 %\n"
          ],
          "name": "stdout"
        }
      ]
    },
    {
      "cell_type": "markdown",
      "metadata": {
        "id": "GzgtqPe0AVTX"
      },
      "source": [
        "#**Let's Retrain the Model by using the best parameters which is discovered from RandomizedSearchCV:**\n",
        "\n",
        "stratified : n_estimators=500, max_features=None, max_depth=6, bootstrap=True"
      ]
    },
    {
      "cell_type": "code",
      "metadata": {
        "id": "CvVAUVmNrmXn",
        "colab": {
          "base_uri": "https://localhost:8080/"
        },
        "outputId": "02c0a347-7c9c-4a04-f1a9-31c258c79196"
      },
      "source": [
        "from sklearn.ensemble import RandomForestClassifier\n",
        "\n",
        "model = RandomForestClassifier(n_estimators=500, max_features=None, max_depth=6, bootstrap=True)\n",
        "model.fit(X_train, y_train)\n",
        "print(\"Accuracy score of training data {} %:\".format(model.score(X_train, y_train)*100))\n",
        "print(\"Accuracy score of testing data {} %\".format(model.score(X_test, y_test)*100))"
      ],
      "execution_count": 21,
      "outputs": [
        {
          "output_type": "stream",
          "text": [
            "Accuracy score of training data 88.80056252276505 %:\n",
            "Accuracy score of testing data 88.80577573438954 %\n"
          ],
          "name": "stdout"
        }
      ]
    },
    {
      "cell_type": "code",
      "metadata": {
        "colab": {
          "base_uri": "https://localhost:8080/"
        },
        "id": "RUNPUqa-bH6a",
        "outputId": "dd7e3091-cf5f-49d6-c3b7-661868235993"
      },
      "source": [
        "# AUC Score\n",
        "from sklearn.metrics import roc_auc_score, mean_absolute_error\n",
        "\n",
        "auc = roc_auc_score(y_test, model.predict_proba(X_test)[:, 1])\n",
        "print(\"\\nAUC SCORE: {:.3f}\".format(auc))"
      ],
      "execution_count": 22,
      "outputs": [
        {
          "output_type": "stream",
          "text": [
            "\n",
            "AUC SCORE: 0.917\n"
          ],
          "name": "stdout"
        }
      ]
    },
    {
      "cell_type": "code",
      "metadata": {
        "id": "4Z-f0SUridwb",
        "colab": {
          "base_uri": "https://localhost:8080/"
        },
        "outputId": "5eb17482-1f05-4ea5-eb6f-bd5e4db9516d"
      },
      "source": [
        "y_pred = model.predict([[36000, 750, 25, 9]])\n",
        "y_pred"
      ],
      "execution_count": 23,
      "outputs": [
        {
          "output_type": "execute_result",
          "data": {
            "text/plain": [
              "array([1])"
            ]
          },
          "metadata": {
            "tags": []
          },
          "execution_count": 23
        }
      ]
    },
    {
      "cell_type": "code",
      "metadata": {
        "id": "zVABnxeuiige",
        "colab": {
          "base_uri": "https://localhost:8080/"
        },
        "outputId": "f0523140-cad8-4ec4-d907-9db305bd249b"
      },
      "source": [
        "y_pred = model.predict([[20000, 550, 25, 6]])\n",
        "y_pred"
      ],
      "execution_count": 24,
      "outputs": [
        {
          "output_type": "execute_result",
          "data": {
            "text/plain": [
              "array([0])"
            ]
          },
          "metadata": {
            "tags": []
          },
          "execution_count": 24
        }
      ]
    },
    {
      "cell_type": "markdown",
      "metadata": {
        "id": "zFDpMTP6WAuw"
      },
      "source": [
        "<h1>Deployment</h1>"
      ]
    },
    {
      "cell_type": "code",
      "metadata": {
        "id": "gvoPS9tOV9qa"
      },
      "source": [
        "import pickle"
      ],
      "execution_count": 25,
      "outputs": []
    },
    {
      "cell_type": "code",
      "metadata": {
        "id": "27Tx967IWNZl"
      },
      "source": [
        "pickle.dump(model, open('lending_loan.pkl', 'wb'))"
      ],
      "execution_count": 26,
      "outputs": []
    },
    {
      "cell_type": "code",
      "metadata": {
        "colab": {
          "base_uri": "https://localhost:8080/"
        },
        "id": "2cg5JlZElMw6",
        "outputId": "3ae529d7-543c-480d-9e34-bd6d5329ab3f"
      },
      "source": [
        "with open('lending_loan.pkl', 'rb') as f:\n",
        "    auc_score = roc_auc_score(y_test, model.predict_proba(X_test)[:, 1])\n",
        "    print(\"\\nAUC SCORE: {:.3f}\".format(auc_score))"
      ],
      "execution_count": 27,
      "outputs": [
        {
          "output_type": "stream",
          "text": [
            "\n",
            "AUC SCORE: 0.917\n"
          ],
          "name": "stdout"
        }
      ]
    },
    {
      "cell_type": "code",
      "metadata": {
        "id": "vLbvt8uklrIJ"
      },
      "source": [
        ""
      ],
      "execution_count": null,
      "outputs": []
    }
  ]
}